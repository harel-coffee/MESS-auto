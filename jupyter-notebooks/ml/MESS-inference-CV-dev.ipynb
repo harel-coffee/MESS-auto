{
 "cells": [
  {
   "cell_type": "code",
   "execution_count": 12,
   "metadata": {},
   "outputs": [
    {
     "name": "stdout",
     "output_type": "stream",
     "text": [
      "The autoreload extension is already loaded. To reload it, use:\n",
      "  %reload_ext autoreload\n"
     ]
    }
   ],
   "source": [
    "%load_ext autoreload\n",
    "%autoreload 2\n",
    "%matplotlib inline\n",
    "import numpy as np\n",
    "import matplotlib.pyplot as plt\n",
    "import os\n",
    "import pandas as pd\n",
    "from IPython.display import display\n",
    "\n",
    "import MESS"
   ]
  },
  {
   "cell_type": "code",
   "execution_count": 119,
   "metadata": {},
   "outputs": [
    {
     "name": "stdout",
     "output_type": "stream",
     "text": [
      "Removed invariant targets. Retained: ['alpha', 'ecological_strength', 'J', 'm', 'generation', 'speciation_prob', '_lambda']\n"
     ]
    },
    {
     "data": {
      "text/html": [
       "<div>\n",
       "<style scoped>\n",
       "    .dataframe tbody tr th:only-of-type {\n",
       "        vertical-align: middle;\n",
       "    }\n",
       "\n",
       "    .dataframe tbody tr th {\n",
       "        vertical-align: top;\n",
       "    }\n",
       "\n",
       "    .dataframe thead th {\n",
       "        text-align: right;\n",
       "    }\n",
       "</style>\n",
       "<table border=\"1\" class=\"dataframe\">\n",
       "  <thead>\n",
       "    <tr style=\"text-align: right;\">\n",
       "      <th></th>\n",
       "      <th>alpha</th>\n",
       "      <th>ecological_strength</th>\n",
       "      <th>J</th>\n",
       "      <th>m</th>\n",
       "      <th>generation</th>\n",
       "      <th>speciation_prob</th>\n",
       "      <th>_lambda</th>\n",
       "    </tr>\n",
       "  </thead>\n",
       "  <tbody>\n",
       "    <tr>\n",
       "      <th>estimate</th>\n",
       "      <td>6781.600</td>\n",
       "      <td>0.119</td>\n",
       "      <td>3749.500</td>\n",
       "      <td>0.004</td>\n",
       "      <td>295.400</td>\n",
       "      <td>0.001</td>\n",
       "      <td>0.831</td>\n",
       "    </tr>\n",
       "  </tbody>\n",
       "</table>\n",
       "</div>"
      ],
      "text/plain": [
       "            alpha  ecological_strength        J     m  generation  \\\n",
       "estimate 6781.600                0.119 3749.500 0.004     295.400   \n",
       "\n",
       "          speciation_prob  _lambda  \n",
       "estimate            0.001    0.831  "
      ]
     },
     "execution_count": 119,
     "metadata": {},
     "output_type": "execute_result"
    }
   ],
   "source": [
    "SIMOUT = \"/home/iovercast/Continuosity/MESS/analysis/figure5-sims/fig5_sims/SIMOUT.txt\"\n",
    "tmp_com = MESS.util.synthetic_community()\n",
    "rgr = MESS.inference.Regressor(tmp_com, SIMOUT, algorithm=\"rf\", verbose=True)\n",
    "rgr.predict(select_features=False, param_search=False, quick=True, verbose=True)"
   ]
  },
  {
   "cell_type": "code",
   "execution_count": 124,
   "metadata": {},
   "outputs": [
    {
     "name": "stdout",
     "output_type": "stream",
     "text": [
      "[[3.55640e+03 8.85350e-02 4.98670e+03 4.57100e-03 2.66400e+02 1.85100e-03\n",
      "  5.41455e-01]\n",
      " [5.96300e+03 1.99854e-01 6.58140e+03 3.62900e-03 1.91600e+02 2.83500e-03\n",
      "  5.07169e-01]\n",
      " [5.96600e+03 1.86778e-01 3.50070e+03 3.24500e-03 4.22000e+01 1.69300e-03\n",
      "  3.96319e-01]\n",
      " [5.03780e+03 2.38955e-01 2.04920e+03 2.70600e-03 6.26000e+01 2.05900e-03\n",
      "  5.90114e-01]\n",
      " [6.38200e+03 1.06232e-01 6.81900e+03 3.64600e-03 2.05600e+02 3.29700e-03\n",
      "  4.77589e-01]]\n",
      "[0.46068048 0.4412846  0.47548057 0.49706436 0.50436934]\n"
     ]
    }
   ],
   "source": [
    "rgr.cross_val_predict()\n",
    "print(rgr.cv_preds[:5])\n",
    "rgr.cross_val_score()\n",
    "print(rgr.cv_scores[:5])"
   ]
  },
  {
   "cell_type": "code",
   "execution_count": 126,
   "metadata": {},
   "outputs": [
    {
     "data": {
      "text/plain": [
       "alpha                 1526.424\n",
       "ecological_strength      0.171\n",
       "J                     1473.025\n",
       "m                        0.002\n",
       "generation              99.603\n",
       "speciation_prob          0.001\n",
       "_lambda                  0.190\n",
       "dtype: float64"
      ]
     },
     "metadata": {},
     "output_type": "display_data"
    },
    {
     "data": {
      "text/plain": [
       "alpha                 42.401\n",
       "ecological_strength    0.005\n",
       "J                     40.559\n",
       "m                      0.000\n",
       "generation             5.143\n",
       "speciation_prob        0.000\n",
       "_lambda                0.005\n",
       "dtype: float64"
      ]
     },
     "metadata": {},
     "output_type": "display_data"
    }
   ],
   "source": [
    "display(rgr.MAE)\n",
    "display(rgr.RMSE)"
   ]
  },
  {
   "cell_type": "code",
   "execution_count": 121,
   "metadata": {},
   "outputs": [
    {
     "name": "stdout",
     "output_type": "stream",
     "text": [
      "alpha                 1478.539\n",
      "ecological_strength      0.156\n",
      "J                     1413.786\n",
      "m                        0.002\n",
      "generation              94.518\n",
      "speciation_prob          0.001\n",
      "_lambda                  0.188\n",
      "dtype: float64\n"
     ]
    },
    {
     "data": {
      "text/plain": [
       "array([[<matplotlib.axes._subplots.AxesSubplot object at 0x2aabf8611490>,\n",
       "        <matplotlib.axes._subplots.AxesSubplot object at 0x2aabf8642c90>,\n",
       "        <matplotlib.axes._subplots.AxesSubplot object at 0x2aab42ce4e50>],\n",
       "       [<matplotlib.axes._subplots.AxesSubplot object at 0x2aab42d23050>,\n",
       "        <matplotlib.axes._subplots.AxesSubplot object at 0x2aab42d58210>,\n",
       "        <matplotlib.axes._subplots.AxesSubplot object at 0x2aab42d8f3d0>],\n",
       "       [<matplotlib.axes._subplots.AxesSubplot object at 0x2aab42dc6590>,\n",
       "        <matplotlib.axes._subplots.AxesSubplot object at 0x2aab42dff750>,\n",
       "        <matplotlib.axes._subplots.AxesSubplot object at 0x2aab42e38910>]],\n",
       "      dtype=object)"
      ]
     },
     "execution_count": 121,
     "metadata": {},
     "output_type": "execute_result"
    },
    {
     "data": {
      "image/png": "[encoded data removed]",
      "text/plain": [
       "<Figure size 720x720 with 9 Axes>"
      ]
     },
     "metadata": {
      "needs_background": "light"
     },
     "output_type": "display_data"
    }
   ],
   "source": [
    "#print(rgr.cv_preds[:5])\n",
    "#print(rgr.y[:5])\n",
    "\n",
    "## Normalized mean absolute error\n",
    "#error = np.abs((rgr.cv_preds - rgr.y)/rgr.y)[:100]\n",
    "\n",
    "##\n",
    "error = np.abs((rgr.cv_preds - rgr.y))[:100]\n",
    "print(np.mean(error))\n",
    "error.hist(figsize=(10,10))"
   ]
  },
  {
   "cell_type": "code",
   "execution_count": 122,
   "metadata": {},
   "outputs": [
    {
     "data": {
      "text/plain": [
       "alpha                 1802.267\n",
       "ecological_strength      0.000\n",
       "J                     1672.351\n",
       "m                        0.000\n",
       "generation              25.992\n",
       "speciation_prob          0.000\n",
       "_lambda                  0.000\n",
       "dtype: float64"
      ]
     },
     "metadata": {},
     "output_type": "display_data"
    },
    {
     "data": {
      "text/plain": [
       "alpha                 42.453\n",
       "ecological_strength    0.005\n",
       "J                     40.894\n",
       "m                      0.000\n",
       "generation             5.098\n",
       "speciation_prob        0.000\n",
       "_lambda                0.005\n",
       "dtype: float64"
      ]
     },
     "metadata": {},
     "output_type": "display_data"
    }
   ],
   "source": [
    "pd.set_option('display.float_format', lambda x: '%.3f' % x)\n",
    "## Normalized mean absolute error\n",
    "#n = 100\n",
    "#display(rgr.y[:n])\n",
    "#display(pd.DataFrame(rgr.cv_preds)[:n])\n",
    "mean_error = np.mean((rgr.cv_preds - rgr.y)**2)/len(rgr.y)\n",
    "RMSE = np.sqrt(np.mean((rgr.cv_preds - rgr.y)**2)/len(rgr.y))\n",
    "display(mean_error)\n",
    "display(RMSE)\n",
    "#display(np.sqrt(error))\n"
   ]
  },
  {
   "cell_type": "code",
   "execution_count": 127,
   "metadata": {},
   "outputs": [
    {
     "name": "stdout",
     "output_type": "stream",
     "text": [
      "Got empirical summary statistics:\n",
      "    S  abund_h1  abund_h2  abund_h3  abund_h4  pi_h1  pi_h2  pi_h3  pi_h4  \\\n",
      "0  10     9.402     9.031     8.776     8.584  7.289  6.539  6.190  5.979   \n",
      "\n",
      "   mean_pi  ...    SGD_0  SGD_1  SGD_2  SGD_3  SGD_4  SGD_5  SGD_6  SGD_7  \\\n",
      "0    0.049  ...        3      0      1      1      0      1      0      1   \n",
      "\n",
      "   SGD_8  SGD_9  \n",
      "0      1      2  \n",
      "\n",
      "[1 rows x 48 columns]\n",
      "No features previously selected, using all.\n"
     ]
    }
   ],
   "source": [
    "SIMOUT = \"/home/iovercast/Continuosity/MESS/analysis/full-parameter-estimation/default_MESS/SIMOUT.txt\"\n",
    "tmp_com = MESS.util.synthetic_community()\n",
    "cla = MESS.inference.Classifier(tmp_com, SIMOUT, algorithm=\"rf\", verbose=True)\n"
   ]
  },
  {
   "cell_type": "code",
   "execution_count": 129,
   "metadata": {},
   "outputs": [
    {
     "name": "stdout",
     "output_type": "stream",
     "text": [
      "Got empirical summary statistics:\n",
      "    S  abund_h1  abund_h2  abund_h3  abund_h4  pi_h1  pi_h2  pi_h3  pi_h4  \\\n",
      "0  10     9.402     9.031     8.776     8.584  7.289  6.539  6.190  5.979   \n",
      "\n",
      "   mean_pi  ...    SGD_0  SGD_1  SGD_2  SGD_3  SGD_4  SGD_5  SGD_6  SGD_7  \\\n",
      "0    0.049  ...        3      0      1      1      0      1      0      1   \n",
      "\n",
      "   SGD_8  SGD_9  \n",
      "0      1      2  \n",
      "\n",
      "[1 rows x 48 columns]\n",
      "No features previously selected, using all.\n",
      "\n",
      "Estimator has not been optimized prior to CV. Performing estimator CV skipping\n",
      "feature selection and hyperparameter optimization. For better performance call\n",
      "predict() on the estimator prior to calling the cv_predict/cv_score methods.\n",
      "\n"
     ]
    },
    {
     "name": "stderr",
     "output_type": "stream",
     "text": [
      "/home/iovercast/Continuosity/MESS/MESS/inference.py:361: DataConversionWarning: A column-vector y was passed when a 1d array was expected. Please change the shape of y to (n_samples,), for example using ravel().\n",
      "  self.best_model.fit(self.X, self.y)\n"
     ]
    },
    {
     "name": "stdout",
     "output_type": "stream",
     "text": [
      "['neutral' 'competition' 'competition' ... 'filtering' 'competition'\n",
      " 'neutral']\n",
      "[0.77227424 0.79371791 0.78791541 0.7978852  0.80181269]\n"
     ]
    }
   ],
   "source": [
    "cla = MESS.inference.Classifier(tmp_com, SIMOUT, algorithm=\"rf\", verbose=True)\n",
    "cla.cross_val_predict(verbose=True, quick=True)\n",
    "cla.cross_val_score()\n",
    "print(cla.cv_preds)\n",
    "print(cla.cv_scores)\n"
   ]
  },
  {
   "cell_type": "code",
   "execution_count": 38,
   "metadata": {},
   "outputs": [
    {
     "name": "stdout",
     "output_type": "stream",
     "text": [
      "Got empirical summary statistics:     S  abund_h1  abund_h2  abund_h3  abund_h4     pi_h1     pi_h2     pi_h3  \\\n",
      "0  10  8.512748  7.550586  6.948253  6.564836  7.516197  6.676461  6.270421   \n",
      "\n",
      "      pi_h4   mean_pi  ...    SGD_0  SGD_1  SGD_2  SGD_3  SGD_4  SGD_5  SGD_6  \\\n",
      "0  6.027077  0.032973  ...        2      1      2      0      0      1      1   \n",
      "\n",
      "   SGD_7  SGD_8  SGD_9  \n",
      "0      1      1      1  \n",
      "\n",
      "[1 rows x 48 columns]\n",
      "No features previously selected, using all.\n"
     ]
    },
    {
     "data": {
      "text/plain": [
       "<class 'MESS.inference.Classifier'>: nsims - 16552\n",
       "\tFeatures - ['S', 'abund_h1', 'abund_h2', 'abund_h3', 'abund_h4', 'pi_h1', 'pi_h2', 'pi_h3', 'pi_h4', 'mean_pi', 'std_pi', 'skewness_pi', 'kurtosis_pi', 'median_pi', 'iqr_pi', 'mean_dxys', 'std_dxys', 'skewness_dxys', 'kurtosis_dxys', 'median_dxys', 'iqr_dxys', 'trees', 'trait_h1', 'trait_h2', 'trait_h3', 'trait_h4', 'mean_local_traits', 'std_local_traits', 'skewness_local_traits', 'kurtosis_local_traits', 'median_local_traits', 'iqr_local_traits', 'abundance_dxy_cor', 'abundance_pi_cor', 'abundance_trait_cor', 'dxy_pi_cor', 'dxy_trait_cor', 'pi_trait_cor', 'SGD_0', 'SGD_1', 'SGD_2', 'SGD_3', 'SGD_4', 'SGD_5', 'SGD_6', 'SGD_7', 'SGD_8', 'SGD_9']\n",
       "\tTargets - ['community_assembly_model']"
      ]
     },
     "execution_count": 38,
     "metadata": {},
     "output_type": "execute_result"
    }
   ],
   "source": [
    "type(cla)(tmp_com, SIMOUT, algorithm=\"rf\", verbose=True)\n"
   ]
  }
 ],
 "metadata": {
  "kernelspec": {
   "display_name": "Python 3 (ipykernel)",
   "language": "python",
   "name": "python3"
  },
  "language_info": {
   "codemirror_mode": {
    "name": "ipython",
    "version": 3
   },
   "file_extension": ".py",
   "mimetype": "text/x-python",
   "name": "python",
   "nbconvert_exporter": "python",
   "pygments_lexer": "ipython3",
   "version": "3.9.6"
  }
 },
 "nbformat": 4,
 "nbformat_minor": 2
}
