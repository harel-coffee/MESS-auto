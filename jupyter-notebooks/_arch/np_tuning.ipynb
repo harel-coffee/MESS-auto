{
 "cells": [
  {
   "cell_type": "markdown",
   "metadata": {},
   "source": [
    "## In case you need a reminder of why the local community is how it is"
   ]
  },
  {
   "cell_type": "code",
   "execution_count": 7,
   "metadata": {},
   "outputs": [],
   "source": [
    "import numpy as np\n",
    "import os\n",
    "\n",
    "workdir = \"/Volumes/WorkDrive/gimmeSAD\"\n",
    "os.chdir(workdir)\n",
    "\n",
    "import Community\n",
    "\n"
   ]
  },
  {
   "cell_type": "code",
   "execution_count": 8,
   "metadata": {},
   "outputs": [
    {
     "name": "stdout",
     "output_type": "stream",
     "text": [
      "('total_inds', 1000300302)\n",
      "('metacommunity', array([(0, 517471, 0.0005173156490759512), (1, 66, 6.598018601817837e-08),\n",
      "       (2, 1, 9.996997881542177e-10), ...,\n",
      "       (1634, 21854754, 0.021848192943962542),\n",
      "       (1635, 138741, 0.0001386993483083043),\n",
      "       (1636, 3255510, 0.0032545326573339374)], \n",
      "      dtype=[('uuid', '<i8'), ('abund', '<i8'), ('col_prob', '<f8')]))\n",
      "[('uuid', '<i8'), ('abund', '<i8'), ('col_prob', '<f8')]\n",
      "('init_community', array([[  2,   0,   0, ..., 247,   0,  24]]))\n",
      "Initializing local community:\n",
      "N species = 477\n",
      "N individuals = 10000\n",
      "('local_community', array([(0, 2, 1, True), (1, 0, 0, False), (2, 0, 0, False), ...,\n",
      "       (1634, 247, 1, True), (1635, 0, 0, False), (1636, 24, 1, True)], \n",
      "      dtype=[('uuid', '<i8'), ('abund', '<i8'), ('col_time', '<i8'), ('is_founder', '?')]))\n"
     ]
    }
   ],
   "source": [
    "data = Community.Community()\n",
    "data.set_metacommunity(\"metacommunity_LS4.txt\")\n",
    "data.prepopulate(mode=\"landbridge\")"
   ]
  },
  {
   "cell_type": "code",
   "execution_count": 37,
   "metadata": {},
   "outputs": [
    {
     "name": "stdout",
     "output_type": "stream",
     "text": [
      "10000 loops, best of 3: 22.6 µs per loop\n"
     ]
    }
   ],
   "source": [
    "import random\n",
    "%timeit random.choice(data.metacommunity[\"uuid\"])\n",
    "%timeit np.random.choice(data.metacommunity[\"uuid\"])"
   ]
  },
  {
   "cell_type": "code",
   "execution_count": 263,
   "metadata": {},
   "outputs": [],
   "source": [
    "## 10000 loops, best of 3: 165 µs per loop\n",
    "def rand1(data):\n",
    "    idx = (np.cumsum(data.local_community[np.nonzero(data.local_community[\"abund\"])][\"abund\"])/float(data.K)).searchsorted(np.random.sample(1))[0]\n",
    "    local_abund = np.nonzero(data.local_community[\"abund\"])[0]\n",
    "    #print(idx)#, len(local_abund), local_abund)\n",
    "    idx = np.nonzero(data.local_community[\"abund\"])[0][idx]\n",
    "    #print(idx)\n",
    "    return idx\n",
    "\n",
    "## 10000 loops, best of 3: 91.6 µs per loop\n",
    "def rand2(data):\n",
    "    victim = np.random.multinomial(1, data.local_community[\"abund\"]/float(data.K), size=1)\n",
    "    idx = data.local_community['uuid'][victim[0].astype(\"bool\")]\n",
    "    return idx\n",
    "\n",
    "import itertools, random\n",
    "\n",
    "## 1000 loops, best of 3: 1.94 ms per loop\n",
    "def rand3(data):\n",
    "    local_abunds = [[x[0]] * x[1] for x in data.local_community[np.nonzero(data.local_community[\"abund\"])]]\n",
    "    ## flatten list\n",
    "    local_abunds = list(itertools.chain.from_iterable(local_abunds))\n",
    "    idx = random.choice(local_abunds)\n",
    "\n",
    "## 10000 loops, best of 3: 118 µs per loop\n",
    "def rand4(data):\n",
    "    subset = data.local_community[np.nonzero(data.local_community[\"abund\"])]\n",
    "    lt = subset[\"abund\"].cumsum()\n",
    "    get = lt.searchsorted(random.randint(0, lt.max()))\n",
    "    return get\n",
    "\n",
    "## 10000 loops, best of 3: 105 µs per loop\n",
    "## 10000 loops, best of 3: 33.8 µs per loop\n",
    "def rand5(data):\n",
    "    #idx = data.local_community[np.nonzero(data.local_community[\"abund\"])][\"abund\"].cumsum().searchsorted(random.randint(0, data.K))\n",
    "    idx = np.nonzero(data.local_community[\"abund\"])[0].cumsum().searchsorted(random.randint(0, data.K))\n",
    "    return idx"
   ]
  }
 ],
 "metadata": {
  "anaconda-cloud": {},
  "kernelspec": {
   "display_name": "Python 3",
   "language": "python",
   "name": "python3"
  },
  "language_info": {
   "codemirror_mode": {
    "name": "ipython",
    "version": 3
   },
   "file_extension": ".py",
   "mimetype": "text/x-python",
   "name": "python",
   "nbconvert_exporter": "python",
   "pygments_lexer": "ipython3",
   "version": "3.7.6"
  }
 },
 "nbformat": 4,
 "nbformat_minor": 1
}
