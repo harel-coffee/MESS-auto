{
 "cells": [
  {
   "cell_type": "code",
   "execution_count": 43,
   "metadata": {},
   "outputs": [
    {
     "name": "stdout",
     "output_type": "stream",
     "text": [
      "The autoreload extension is already loaded. To reload it, use:\n",
      "  %reload_ext autoreload\n"
     ]
    }
   ],
   "source": [
    "%load_ext autoreload\n",
    "%autoreload 2\n",
    "%matplotlib inline\n",
    "import matplotlib.pyplot as plt\n",
    "import MESS\n",
    "import numpy as np\n",
    "import os\n",
    "import pandas as pd\n",
    "\n",
    "from IPython.display import display\n",
    "\n",
    "pd.set_option('display.max_rows', 500)\n",
    "pd.set_option('display.max_columns', 500)\n",
    "pd.set_option('display.width', 1000)\n"
   ]
  },
  {
   "cell_type": "markdown",
   "metadata": {},
   "source": [
    "## Load the tree data"
   ]
  },
  {
   "cell_type": "code",
   "execution_count": 46,
   "metadata": {},
   "outputs": [
    {
     "name": "stdout",
     "output_type": "stream",
     "text": [
      "Nightcap richness 51\n"
     ]
    },
    {
     "data": {
      "text/html": [
       "<div>\n",
       "<style scoped>\n",
       "    .dataframe tbody tr th:only-of-type {\n",
       "        vertical-align: middle;\n",
       "    }\n",
       "\n",
       "    .dataframe tbody tr th {\n",
       "        vertical-align: top;\n",
       "    }\n",
       "\n",
       "    .dataframe thead th {\n",
       "        text-align: right;\n",
       "    }\n",
       "</style>\n",
       "<table border=\"1\" class=\"dataframe\">\n",
       "  <thead>\n",
       "    <tr style=\"text-align: right;\">\n",
       "      <th></th>\n",
       "      <th>pi</th>\n",
       "      <th>trait</th>\n",
       "    </tr>\n",
       "  </thead>\n",
       "  <tbody>\n",
       "    <tr>\n",
       "      <th>Acacia melanoxylon</th>\n",
       "      <td>0.000010</td>\n",
       "      <td>0.045522</td>\n",
       "    </tr>\n",
       "    <tr>\n",
       "      <th>Acradenia euodiiformis</th>\n",
       "      <td>0.000084</td>\n",
       "      <td>0.933994</td>\n",
       "    </tr>\n",
       "    <tr>\n",
       "      <th>Acronychia pubescens</th>\n",
       "      <td>0.000754</td>\n",
       "      <td>-0.273173</td>\n",
       "    </tr>\n",
       "    <tr>\n",
       "      <th>Alangium villosum</th>\n",
       "      <td>0.000020</td>\n",
       "      <td>-0.939426</td>\n",
       "    </tr>\n",
       "    <tr>\n",
       "      <th>Archirhodomyrtus beckleri</th>\n",
       "      <td>0.000078</td>\n",
       "      <td>1.749622</td>\n",
       "    </tr>\n",
       "  </tbody>\n",
       "</table>\n",
       "</div>"
      ],
      "text/plain": [
       "                                 pi     trait\n",
       "Acacia melanoxylon         0.000010  0.045522\n",
       "Acradenia euodiiformis     0.000084  0.933994\n",
       "Acronychia pubescens       0.000754 -0.273173\n",
       "Alangium villosum          0.000020 -0.939426\n",
       "Archirhodomyrtus beckleri  0.000078  1.749622"
      ]
     },
     "metadata": {},
     "output_type": "display_data"
    },
    {
     "name": "stdout",
     "output_type": "stream",
     "text": [
      "Dorrigo richness 53\n"
     ]
    },
    {
     "data": {
      "text/html": [
       "<div>\n",
       "<style scoped>\n",
       "    .dataframe tbody tr th:only-of-type {\n",
       "        vertical-align: middle;\n",
       "    }\n",
       "\n",
       "    .dataframe tbody tr th {\n",
       "        vertical-align: top;\n",
       "    }\n",
       "\n",
       "    .dataframe thead th {\n",
       "        text-align: right;\n",
       "    }\n",
       "</style>\n",
       "<table border=\"1\" class=\"dataframe\">\n",
       "  <thead>\n",
       "    <tr style=\"text-align: right;\">\n",
       "      <th></th>\n",
       "      <th>pi</th>\n",
       "      <th>trait</th>\n",
       "    </tr>\n",
       "  </thead>\n",
       "  <tbody>\n",
       "    <tr>\n",
       "      <th>Acacia melanoxylon</th>\n",
       "      <td>0.001527</td>\n",
       "      <td>0.045522</td>\n",
       "    </tr>\n",
       "    <tr>\n",
       "      <th>Acradenia euodiiformis</th>\n",
       "      <td>0.000678</td>\n",
       "      <td>0.933994</td>\n",
       "    </tr>\n",
       "    <tr>\n",
       "      <th>Acronychia oblongifolia</th>\n",
       "      <td>0.000034</td>\n",
       "      <td>0.601673</td>\n",
       "    </tr>\n",
       "    <tr>\n",
       "      <th>Acronychia pubescens</th>\n",
       "      <td>0.000469</td>\n",
       "      <td>-0.273173</td>\n",
       "    </tr>\n",
       "    <tr>\n",
       "      <th>Alangium villosum</th>\n",
       "      <td>0.000000</td>\n",
       "      <td>-0.939426</td>\n",
       "    </tr>\n",
       "  </tbody>\n",
       "</table>\n",
       "</div>"
      ],
      "text/plain": [
       "                               pi     trait\n",
       "Acacia melanoxylon       0.001527  0.045522\n",
       "Acradenia euodiiformis   0.000678  0.933994\n",
       "Acronychia oblongifolia  0.000034  0.601673\n",
       "Acronychia pubescens     0.000469 -0.273173\n",
       "Alangium villosum        0.000000 -0.939426"
      ]
     },
     "metadata": {},
     "output_type": "display_data"
    },
    {
     "name": "stdout",
     "output_type": "stream",
     "text": [
      "Washpool richness 53\n"
     ]
    },
    {
     "data": {
      "text/html": [
       "<div>\n",
       "<style scoped>\n",
       "    .dataframe tbody tr th:only-of-type {\n",
       "        vertical-align: middle;\n",
       "    }\n",
       "\n",
       "    .dataframe tbody tr th {\n",
       "        vertical-align: top;\n",
       "    }\n",
       "\n",
       "    .dataframe thead th {\n",
       "        text-align: right;\n",
       "    }\n",
       "</style>\n",
       "<table border=\"1\" class=\"dataframe\">\n",
       "  <thead>\n",
       "    <tr style=\"text-align: right;\">\n",
       "      <th></th>\n",
       "      <th>pi</th>\n",
       "      <th>trait</th>\n",
       "    </tr>\n",
       "  </thead>\n",
       "  <tbody>\n",
       "    <tr>\n",
       "      <th>Acacia melanoxylon</th>\n",
       "      <td>0.000028</td>\n",
       "      <td>0.045522</td>\n",
       "    </tr>\n",
       "    <tr>\n",
       "      <th>Acronychia oblongifolia</th>\n",
       "      <td>0.000007</td>\n",
       "      <td>0.601673</td>\n",
       "    </tr>\n",
       "    <tr>\n",
       "      <th>Acronychia pubescens</th>\n",
       "      <td>0.000010</td>\n",
       "      <td>-0.273173</td>\n",
       "    </tr>\n",
       "    <tr>\n",
       "      <th>Alangium villosum</th>\n",
       "      <td>0.000000</td>\n",
       "      <td>-0.939426</td>\n",
       "    </tr>\n",
       "    <tr>\n",
       "      <th>Alphitonia excelsa</th>\n",
       "      <td>0.000000</td>\n",
       "      <td>0.133814</td>\n",
       "    </tr>\n",
       "  </tbody>\n",
       "</table>\n",
       "</div>"
      ],
      "text/plain": [
       "                               pi     trait\n",
       "Acacia melanoxylon       0.000028  0.045522\n",
       "Acronychia oblongifolia  0.000007  0.601673\n",
       "Acronychia pubescens     0.000010 -0.273173\n",
       "Alangium villosum        0.000000 -0.939426\n",
       "Alphitonia excelsa       0.000000  0.133814"
      ]
     },
     "metadata": {},
     "output_type": "display_data"
    },
    {
     "name": "stdout",
     "output_type": "stream",
     "text": [
      "S_m: 70\n"
     ]
    }
   ],
   "source": [
    "dorrigo_df = pd.read_csv(\"Dorrigo.csv\", header=0, index_col=0)\n",
    "nightcap_df = pd.read_csv(\"Nightcap.csv\", header=0, index_col=0)\n",
    "washpool_df = pd.read_csv(\"Washpool.csv\", header=0, index_col=0)\n",
    "site_df = {\"Dorrigo\":dorrigo_df, \"Nightcap\":nightcap_df, \"Washpool\":washpool_df}\n",
    "for site, df in site_df.items():\n",
    "    print(\"{} richness {}\".format(site, len(df)))\n",
    "    display(df[:5])\n",
    "\n",
    "## Get metacommunity trait distribution (pool all traits for all sites)\n",
    "metacommunity_traits = pd.concat([dorrigo_df, nightcap_df, washpool_df], axis=0)\n",
    "metacommunity_traits = metacommunity_traits[\"trait\"].unique()\n",
    "\n",
    "print(\"S_m: {}\".format(len(metacommunity_traits)))"
   ]
  },
  {
   "cell_type": "markdown",
   "metadata": {},
   "source": [
    "# Select the best model"
   ]
  },
  {
   "cell_type": "code",
   "execution_count": 50,
   "metadata": {},
   "outputs": [
    {
     "name": "stdout",
     "output_type": "stream",
     "text": [
      "Predict() started: 2019-06-12 22:43:30.433410\n",
      "Selecting features:\n",
      "  community_assembly_model\t['S', 'pi_h1', 'pi_h2', 'pi_h3', 'pi_h4', 'mean_pi', 'std_pi', 'skewness_pi', 'kurtosis_pi', 'median_pi', 'iqr_pi', 'mean_local_traits', 'std_local_traits', 'skewness_local_traits', 'kurtosis_local_traits', 'median_local_traits', 'iqr_local_traits', 'mean_regional_traits', 'std_regional_traits', 'skewness_regional_traits', 'kurtosis_regional_traits', 'median_regional_traits', 'iqr_regional_traits', 'reg_loc_mean_trait_dif', 'reg_loc_std_trait_dif', 'reg_loc_skewness_trait_dif', 'reg_loc_kurtosis_trait_dif', 'reg_loc_median_trait_dif', 'reg_loc_iqr_trait_dif', 'pi_trait_cor', 'SGD_0', 'SGD_1', 'SGD_2', 'SGD_3', 'SGD_4']\n",
      "All selected features: S pi_h1 pi_h2 pi_h3 pi_h4 mean_pi std_pi skewness_pi kurtosis_pi median_pi iqr_pi mean_local_traits std_local_traits skewness_local_traits kurtosis_local_traits median_local_traits iqr_local_traits mean_regional_traits std_regional_traits skewness_regional_traits kurtosis_regional_traits median_regional_traits iqr_regional_traits reg_loc_mean_trait_dif reg_loc_std_trait_dif reg_loc_skewness_trait_dif reg_loc_kurtosis_trait_dif reg_loc_median_trait_dif reg_loc_iqr_trait_dif pi_trait_cor SGD_0 SGD_1 SGD_2 SGD_3 SGD_4\n",
      "Finding best model parameters.\n",
      "Fitting 4 folds for each of 100 candidates, totalling 400 fits\n"
     ]
    },
    {
     "name": "stderr",
     "output_type": "stream",
     "text": [
      "[Parallel(n_jobs=-1)]: Using backend LokyBackend with 40 concurrent workers.\n",
      "[Parallel(n_jobs=-1)]: Done 120 tasks      | elapsed:  7.2min\n",
      "[Parallel(n_jobs=-1)]: Done 400 out of 400 | elapsed: 20.0min finished\n"
     ]
    },
    {
     "name": "stdout",
     "output_type": "stream",
     "text": [
      "{'n_estimators': 1000, 'min_samples_split': 2, 'bootstrap': False, 'max_depth': 90, 'min_samples_leaf': 2}\n",
      "Predict() finished: 2019-06-12 23:10:19.126771\n"
     ]
    },
    {
     "data": {
      "text/plain": [
       "'Nightcap'"
      ]
     },
     "metadata": {},
     "output_type": "display_data"
    },
    {
     "data": {
      "text/html": [
       "<div>\n",
       "<style scoped>\n",
       "    .dataframe tbody tr th:only-of-type {\n",
       "        vertical-align: middle;\n",
       "    }\n",
       "\n",
       "    .dataframe tbody tr th {\n",
       "        vertical-align: top;\n",
       "    }\n",
       "\n",
       "    .dataframe thead th {\n",
       "        text-align: right;\n",
       "    }\n",
       "</style>\n",
       "<table border=\"1\" class=\"dataframe\">\n",
       "  <thead>\n",
       "    <tr style=\"text-align: right;\">\n",
       "      <th></th>\n",
       "      <th>community_assembly_model</th>\n",
       "    </tr>\n",
       "  </thead>\n",
       "  <tbody>\n",
       "    <tr>\n",
       "      <th>estimate</th>\n",
       "      <td>filtering</td>\n",
       "    </tr>\n",
       "  </tbody>\n",
       "</table>\n",
       "</div>"
      ],
      "text/plain": [
       "         community_assembly_model\n",
       "estimate                filtering"
      ]
     },
     "metadata": {},
     "output_type": "display_data"
    },
    {
     "data": {
      "text/html": [
       "<div>\n",
       "<style scoped>\n",
       "    .dataframe tbody tr th:only-of-type {\n",
       "        vertical-align: middle;\n",
       "    }\n",
       "\n",
       "    .dataframe tbody tr th {\n",
       "        vertical-align: top;\n",
       "    }\n",
       "\n",
       "    .dataframe thead th {\n",
       "        text-align: right;\n",
       "    }\n",
       "</style>\n",
       "<table border=\"1\" class=\"dataframe\">\n",
       "  <thead>\n",
       "    <tr style=\"text-align: right;\">\n",
       "      <th></th>\n",
       "      <th>competition</th>\n",
       "      <th>filtering</th>\n",
       "      <th>neutral</th>\n",
       "    </tr>\n",
       "  </thead>\n",
       "  <tbody>\n",
       "    <tr>\n",
       "      <th>community_assembly_model</th>\n",
       "      <td>0.179667</td>\n",
       "      <td>0.451</td>\n",
       "      <td>0.369333</td>\n",
       "    </tr>\n",
       "  </tbody>\n",
       "</table>\n",
       "</div>"
      ],
      "text/plain": [
       "                          competition  filtering   neutral\n",
       "community_assembly_model     0.179667      0.451  0.369333"
      ]
     },
     "metadata": {},
     "output_type": "display_data"
    },
    {
     "data": {
      "text/html": [
       "<div>\n",
       "<style scoped>\n",
       "    .dataframe tbody tr th:only-of-type {\n",
       "        vertical-align: middle;\n",
       "    }\n",
       "\n",
       "    .dataframe tbody tr th {\n",
       "        vertical-align: top;\n",
       "    }\n",
       "\n",
       "    .dataframe thead th {\n",
       "        text-align: right;\n",
       "    }\n",
       "</style>\n",
       "<table border=\"1\" class=\"dataframe\">\n",
       "  <thead>\n",
       "    <tr style=\"text-align: right;\">\n",
       "      <th></th>\n",
       "      <th>S</th>\n",
       "      <th>pi_h1</th>\n",
       "      <th>pi_h2</th>\n",
       "      <th>pi_h3</th>\n",
       "      <th>pi_h4</th>\n",
       "      <th>mean_pi</th>\n",
       "      <th>std_pi</th>\n",
       "      <th>skewness_pi</th>\n",
       "      <th>kurtosis_pi</th>\n",
       "      <th>median_pi</th>\n",
       "      <th>iqr_pi</th>\n",
       "      <th>mean_local_traits</th>\n",
       "      <th>std_local_traits</th>\n",
       "      <th>skewness_local_traits</th>\n",
       "      <th>kurtosis_local_traits</th>\n",
       "      <th>median_local_traits</th>\n",
       "      <th>iqr_local_traits</th>\n",
       "      <th>mean_regional_traits</th>\n",
       "      <th>std_regional_traits</th>\n",
       "      <th>skewness_regional_traits</th>\n",
       "      <th>kurtosis_regional_traits</th>\n",
       "      <th>median_regional_traits</th>\n",
       "      <th>iqr_regional_traits</th>\n",
       "      <th>reg_loc_mean_trait_dif</th>\n",
       "      <th>reg_loc_std_trait_dif</th>\n",
       "      <th>reg_loc_skewness_trait_dif</th>\n",
       "      <th>reg_loc_kurtosis_trait_dif</th>\n",
       "      <th>reg_loc_median_trait_dif</th>\n",
       "      <th>reg_loc_iqr_trait_dif</th>\n",
       "      <th>pi_trait_cor</th>\n",
       "      <th>SGD_0</th>\n",
       "      <th>SGD_1</th>\n",
       "      <th>SGD_2</th>\n",
       "      <th>SGD_3</th>\n",
       "      <th>SGD_4</th>\n",
       "    </tr>\n",
       "  </thead>\n",
       "  <tbody>\n",
       "    <tr>\n",
       "      <th>Feature importance</th>\n",
       "      <td>0.019203</td>\n",
       "      <td>0.02027</td>\n",
       "      <td>0.017569</td>\n",
       "      <td>0.016981</td>\n",
       "      <td>0.01636</td>\n",
       "      <td>0.03346</td>\n",
       "      <td>0.047082</td>\n",
       "      <td>0.018463</td>\n",
       "      <td>0.018501</td>\n",
       "      <td>0.00988</td>\n",
       "      <td>0.024147</td>\n",
       "      <td>0.018569</td>\n",
       "      <td>0.053284</td>\n",
       "      <td>0.020313</td>\n",
       "      <td>0.039902</td>\n",
       "      <td>0.018288</td>\n",
       "      <td>0.05064</td>\n",
       "      <td>0.019648</td>\n",
       "      <td>0.027548</td>\n",
       "      <td>0.03024</td>\n",
       "      <td>0.050351</td>\n",
       "      <td>0.021705</td>\n",
       "      <td>0.048082</td>\n",
       "      <td>0.023601</td>\n",
       "      <td>0.112985</td>\n",
       "      <td>0.024682</td>\n",
       "      <td>0.036597</td>\n",
       "      <td>0.023202</td>\n",
       "      <td>0.051625</td>\n",
       "      <td>0.023888</td>\n",
       "      <td>0.019119</td>\n",
       "      <td>0.014016</td>\n",
       "      <td>0.011252</td>\n",
       "      <td>0.010111</td>\n",
       "      <td>0.008435</td>\n",
       "    </tr>\n",
       "  </tbody>\n",
       "</table>\n",
       "</div>"
      ],
      "text/plain": [
       "                           S    pi_h1     pi_h2     pi_h3    pi_h4  mean_pi    std_pi  skewness_pi  kurtosis_pi  median_pi    iqr_pi  mean_local_traits  std_local_traits  skewness_local_traits  kurtosis_local_traits  median_local_traits  iqr_local_traits  mean_regional_traits  std_regional_traits  skewness_regional_traits  kurtosis_regional_traits  median_regional_traits  iqr_regional_traits  reg_loc_mean_trait_dif  reg_loc_std_trait_dif  reg_loc_skewness_trait_dif  reg_loc_kurtosis_trait_dif  reg_loc_median_trait_dif  reg_loc_iqr_trait_dif  pi_trait_cor     SGD_0     SGD_1     SGD_2     SGD_3     SGD_4\n",
       "Feature importance  0.019203  0.02027  0.017569  0.016981  0.01636  0.03346  0.047082     0.018463     0.018501    0.00988  0.024147           0.018569          0.053284               0.020313               0.039902             0.018288           0.05064              0.019648             0.027548                   0.03024                  0.050351                0.021705             0.048082                0.023601               0.112985                    0.024682                    0.036597                  0.023202               0.051625      0.023888  0.019119  0.014016  0.011252  0.010111  0.008435"
      ]
     },
     "metadata": {},
     "output_type": "display_data"
    },
    {
     "name": "stdout",
     "output_type": "stream",
     "text": [
      "Predict() started: 2019-06-12 23:10:21.804751\n"
     ]
    },
    {
     "data": {
      "text/plain": [
       "'Dorrigo'"
      ]
     },
     "metadata": {},
     "output_type": "display_data"
    },
    {
     "data": {
      "text/html": [
       "<div>\n",
       "<style scoped>\n",
       "    .dataframe tbody tr th:only-of-type {\n",
       "        vertical-align: middle;\n",
       "    }\n",
       "\n",
       "    .dataframe tbody tr th {\n",
       "        vertical-align: top;\n",
       "    }\n",
       "\n",
       "    .dataframe thead th {\n",
       "        text-align: right;\n",
       "    }\n",
       "</style>\n",
       "<table border=\"1\" class=\"dataframe\">\n",
       "  <thead>\n",
       "    <tr style=\"text-align: right;\">\n",
       "      <th></th>\n",
       "      <th>community_assembly_model</th>\n",
       "    </tr>\n",
       "  </thead>\n",
       "  <tbody>\n",
       "    <tr>\n",
       "      <th>estimate</th>\n",
       "      <td>filtering</td>\n",
       "    </tr>\n",
       "  </tbody>\n",
       "</table>\n",
       "</div>"
      ],
      "text/plain": [
       "         community_assembly_model\n",
       "estimate                filtering"
      ]
     },
     "metadata": {},
     "output_type": "display_data"
    },
    {
     "data": {
      "text/html": [
       "<div>\n",
       "<style scoped>\n",
       "    .dataframe tbody tr th:only-of-type {\n",
       "        vertical-align: middle;\n",
       "    }\n",
       "\n",
       "    .dataframe tbody tr th {\n",
       "        vertical-align: top;\n",
       "    }\n",
       "\n",
       "    .dataframe thead th {\n",
       "        text-align: right;\n",
       "    }\n",
       "</style>\n",
       "<table border=\"1\" class=\"dataframe\">\n",
       "  <thead>\n",
       "    <tr style=\"text-align: right;\">\n",
       "      <th></th>\n",
       "      <th>competition</th>\n",
       "      <th>filtering</th>\n",
       "      <th>neutral</th>\n",
       "    </tr>\n",
       "  </thead>\n",
       "  <tbody>\n",
       "    <tr>\n",
       "      <th>community_assembly_model</th>\n",
       "      <td>0.177</td>\n",
       "      <td>0.449833</td>\n",
       "      <td>0.373167</td>\n",
       "    </tr>\n",
       "  </tbody>\n",
       "</table>\n",
       "</div>"
      ],
      "text/plain": [
       "                          competition  filtering   neutral\n",
       "community_assembly_model        0.177   0.449833  0.373167"
      ]
     },
     "metadata": {},
     "output_type": "display_data"
    },
    {
     "data": {
      "text/html": [
       "<div>\n",
       "<style scoped>\n",
       "    .dataframe tbody tr th:only-of-type {\n",
       "        vertical-align: middle;\n",
       "    }\n",
       "\n",
       "    .dataframe tbody tr th {\n",
       "        vertical-align: top;\n",
       "    }\n",
       "\n",
       "    .dataframe thead th {\n",
       "        text-align: right;\n",
       "    }\n",
       "</style>\n",
       "<table border=\"1\" class=\"dataframe\">\n",
       "  <thead>\n",
       "    <tr style=\"text-align: right;\">\n",
       "      <th></th>\n",
       "      <th>S</th>\n",
       "      <th>pi_h1</th>\n",
       "      <th>pi_h2</th>\n",
       "      <th>pi_h3</th>\n",
       "      <th>pi_h4</th>\n",
       "      <th>mean_pi</th>\n",
       "      <th>std_pi</th>\n",
       "      <th>skewness_pi</th>\n",
       "      <th>kurtosis_pi</th>\n",
       "      <th>median_pi</th>\n",
       "      <th>iqr_pi</th>\n",
       "      <th>mean_local_traits</th>\n",
       "      <th>std_local_traits</th>\n",
       "      <th>skewness_local_traits</th>\n",
       "      <th>kurtosis_local_traits</th>\n",
       "      <th>median_local_traits</th>\n",
       "      <th>iqr_local_traits</th>\n",
       "      <th>mean_regional_traits</th>\n",
       "      <th>std_regional_traits</th>\n",
       "      <th>skewness_regional_traits</th>\n",
       "      <th>kurtosis_regional_traits</th>\n",
       "      <th>median_regional_traits</th>\n",
       "      <th>iqr_regional_traits</th>\n",
       "      <th>reg_loc_mean_trait_dif</th>\n",
       "      <th>reg_loc_std_trait_dif</th>\n",
       "      <th>reg_loc_skewness_trait_dif</th>\n",
       "      <th>reg_loc_kurtosis_trait_dif</th>\n",
       "      <th>reg_loc_median_trait_dif</th>\n",
       "      <th>reg_loc_iqr_trait_dif</th>\n",
       "      <th>pi_trait_cor</th>\n",
       "      <th>SGD_0</th>\n",
       "      <th>SGD_1</th>\n",
       "      <th>SGD_2</th>\n",
       "      <th>SGD_3</th>\n",
       "      <th>SGD_4</th>\n",
       "    </tr>\n",
       "  </thead>\n",
       "  <tbody>\n",
       "    <tr>\n",
       "      <th>Feature importance</th>\n",
       "      <td>0.019203</td>\n",
       "      <td>0.02027</td>\n",
       "      <td>0.017569</td>\n",
       "      <td>0.016981</td>\n",
       "      <td>0.01636</td>\n",
       "      <td>0.03346</td>\n",
       "      <td>0.047082</td>\n",
       "      <td>0.018463</td>\n",
       "      <td>0.018501</td>\n",
       "      <td>0.00988</td>\n",
       "      <td>0.024147</td>\n",
       "      <td>0.018569</td>\n",
       "      <td>0.053284</td>\n",
       "      <td>0.020313</td>\n",
       "      <td>0.039902</td>\n",
       "      <td>0.018288</td>\n",
       "      <td>0.05064</td>\n",
       "      <td>0.019648</td>\n",
       "      <td>0.027548</td>\n",
       "      <td>0.03024</td>\n",
       "      <td>0.050351</td>\n",
       "      <td>0.021705</td>\n",
       "      <td>0.048082</td>\n",
       "      <td>0.023601</td>\n",
       "      <td>0.112985</td>\n",
       "      <td>0.024682</td>\n",
       "      <td>0.036597</td>\n",
       "      <td>0.023202</td>\n",
       "      <td>0.051625</td>\n",
       "      <td>0.023888</td>\n",
       "      <td>0.019119</td>\n",
       "      <td>0.014016</td>\n",
       "      <td>0.011252</td>\n",
       "      <td>0.010111</td>\n",
       "      <td>0.008435</td>\n",
       "    </tr>\n",
       "  </tbody>\n",
       "</table>\n",
       "</div>"
      ],
      "text/plain": [
       "                           S    pi_h1     pi_h2     pi_h3    pi_h4  mean_pi    std_pi  skewness_pi  kurtosis_pi  median_pi    iqr_pi  mean_local_traits  std_local_traits  skewness_local_traits  kurtosis_local_traits  median_local_traits  iqr_local_traits  mean_regional_traits  std_regional_traits  skewness_regional_traits  kurtosis_regional_traits  median_regional_traits  iqr_regional_traits  reg_loc_mean_trait_dif  reg_loc_std_trait_dif  reg_loc_skewness_trait_dif  reg_loc_kurtosis_trait_dif  reg_loc_median_trait_dif  reg_loc_iqr_trait_dif  pi_trait_cor     SGD_0     SGD_1     SGD_2     SGD_3     SGD_4\n",
       "Feature importance  0.019203  0.02027  0.017569  0.016981  0.01636  0.03346  0.047082     0.018463     0.018501    0.00988  0.024147           0.018569          0.053284               0.020313               0.039902             0.018288           0.05064              0.019648             0.027548                   0.03024                  0.050351                0.021705             0.048082                0.023601               0.112985                    0.024682                    0.036597                  0.023202               0.051625      0.023888  0.019119  0.014016  0.011252  0.010111  0.008435"
      ]
     },
     "metadata": {},
     "output_type": "display_data"
    },
    {
     "name": "stdout",
     "output_type": "stream",
     "text": [
      "Predict() started: 2019-06-12 23:10:25.029465\n"
     ]
    },
    {
     "data": {
      "text/plain": [
       "'Washpool'"
      ]
     },
     "metadata": {},
     "output_type": "display_data"
    },
    {
     "data": {
      "text/html": [
       "<div>\n",
       "<style scoped>\n",
       "    .dataframe tbody tr th:only-of-type {\n",
       "        vertical-align: middle;\n",
       "    }\n",
       "\n",
       "    .dataframe tbody tr th {\n",
       "        vertical-align: top;\n",
       "    }\n",
       "\n",
       "    .dataframe thead th {\n",
       "        text-align: right;\n",
       "    }\n",
       "</style>\n",
       "<table border=\"1\" class=\"dataframe\">\n",
       "  <thead>\n",
       "    <tr style=\"text-align: right;\">\n",
       "      <th></th>\n",
       "      <th>community_assembly_model</th>\n",
       "    </tr>\n",
       "  </thead>\n",
       "  <tbody>\n",
       "    <tr>\n",
       "      <th>estimate</th>\n",
       "      <td>filtering</td>\n",
       "    </tr>\n",
       "  </tbody>\n",
       "</table>\n",
       "</div>"
      ],
      "text/plain": [
       "         community_assembly_model\n",
       "estimate                filtering"
      ]
     },
     "metadata": {},
     "output_type": "display_data"
    },
    {
     "data": {
      "text/html": [
       "<div>\n",
       "<style scoped>\n",
       "    .dataframe tbody tr th:only-of-type {\n",
       "        vertical-align: middle;\n",
       "    }\n",
       "\n",
       "    .dataframe tbody tr th {\n",
       "        vertical-align: top;\n",
       "    }\n",
       "\n",
       "    .dataframe thead th {\n",
       "        text-align: right;\n",
       "    }\n",
       "</style>\n",
       "<table border=\"1\" class=\"dataframe\">\n",
       "  <thead>\n",
       "    <tr style=\"text-align: right;\">\n",
       "      <th></th>\n",
       "      <th>competition</th>\n",
       "      <th>filtering</th>\n",
       "      <th>neutral</th>\n",
       "    </tr>\n",
       "  </thead>\n",
       "  <tbody>\n",
       "    <tr>\n",
       "      <th>community_assembly_model</th>\n",
       "      <td>0.175333</td>\n",
       "      <td>0.4655</td>\n",
       "      <td>0.359167</td>\n",
       "    </tr>\n",
       "  </tbody>\n",
       "</table>\n",
       "</div>"
      ],
      "text/plain": [
       "                          competition  filtering   neutral\n",
       "community_assembly_model     0.175333     0.4655  0.359167"
      ]
     },
     "metadata": {},
     "output_type": "display_data"
    },
    {
     "data": {
      "text/html": [
       "<div>\n",
       "<style scoped>\n",
       "    .dataframe tbody tr th:only-of-type {\n",
       "        vertical-align: middle;\n",
       "    }\n",
       "\n",
       "    .dataframe tbody tr th {\n",
       "        vertical-align: top;\n",
       "    }\n",
       "\n",
       "    .dataframe thead th {\n",
       "        text-align: right;\n",
       "    }\n",
       "</style>\n",
       "<table border=\"1\" class=\"dataframe\">\n",
       "  <thead>\n",
       "    <tr style=\"text-align: right;\">\n",
       "      <th></th>\n",
       "      <th>S</th>\n",
       "      <th>pi_h1</th>\n",
       "      <th>pi_h2</th>\n",
       "      <th>pi_h3</th>\n",
       "      <th>pi_h4</th>\n",
       "      <th>mean_pi</th>\n",
       "      <th>std_pi</th>\n",
       "      <th>skewness_pi</th>\n",
       "      <th>kurtosis_pi</th>\n",
       "      <th>median_pi</th>\n",
       "      <th>iqr_pi</th>\n",
       "      <th>mean_local_traits</th>\n",
       "      <th>std_local_traits</th>\n",
       "      <th>skewness_local_traits</th>\n",
       "      <th>kurtosis_local_traits</th>\n",
       "      <th>median_local_traits</th>\n",
       "      <th>iqr_local_traits</th>\n",
       "      <th>mean_regional_traits</th>\n",
       "      <th>std_regional_traits</th>\n",
       "      <th>skewness_regional_traits</th>\n",
       "      <th>kurtosis_regional_traits</th>\n",
       "      <th>median_regional_traits</th>\n",
       "      <th>iqr_regional_traits</th>\n",
       "      <th>reg_loc_mean_trait_dif</th>\n",
       "      <th>reg_loc_std_trait_dif</th>\n",
       "      <th>reg_loc_skewness_trait_dif</th>\n",
       "      <th>reg_loc_kurtosis_trait_dif</th>\n",
       "      <th>reg_loc_median_trait_dif</th>\n",
       "      <th>reg_loc_iqr_trait_dif</th>\n",
       "      <th>pi_trait_cor</th>\n",
       "      <th>SGD_0</th>\n",
       "      <th>SGD_1</th>\n",
       "      <th>SGD_2</th>\n",
       "      <th>SGD_3</th>\n",
       "      <th>SGD_4</th>\n",
       "    </tr>\n",
       "  </thead>\n",
       "  <tbody>\n",
       "    <tr>\n",
       "      <th>Feature importance</th>\n",
       "      <td>0.019203</td>\n",
       "      <td>0.02027</td>\n",
       "      <td>0.017569</td>\n",
       "      <td>0.016981</td>\n",
       "      <td>0.01636</td>\n",
       "      <td>0.03346</td>\n",
       "      <td>0.047082</td>\n",
       "      <td>0.018463</td>\n",
       "      <td>0.018501</td>\n",
       "      <td>0.00988</td>\n",
       "      <td>0.024147</td>\n",
       "      <td>0.018569</td>\n",
       "      <td>0.053284</td>\n",
       "      <td>0.020313</td>\n",
       "      <td>0.039902</td>\n",
       "      <td>0.018288</td>\n",
       "      <td>0.05064</td>\n",
       "      <td>0.019648</td>\n",
       "      <td>0.027548</td>\n",
       "      <td>0.03024</td>\n",
       "      <td>0.050351</td>\n",
       "      <td>0.021705</td>\n",
       "      <td>0.048082</td>\n",
       "      <td>0.023601</td>\n",
       "      <td>0.112985</td>\n",
       "      <td>0.024682</td>\n",
       "      <td>0.036597</td>\n",
       "      <td>0.023202</td>\n",
       "      <td>0.051625</td>\n",
       "      <td>0.023888</td>\n",
       "      <td>0.019119</td>\n",
       "      <td>0.014016</td>\n",
       "      <td>0.011252</td>\n",
       "      <td>0.010111</td>\n",
       "      <td>0.008435</td>\n",
       "    </tr>\n",
       "  </tbody>\n",
       "</table>\n",
       "</div>"
      ],
      "text/plain": [
       "                           S    pi_h1     pi_h2     pi_h3    pi_h4  mean_pi    std_pi  skewness_pi  kurtosis_pi  median_pi    iqr_pi  mean_local_traits  std_local_traits  skewness_local_traits  kurtosis_local_traits  median_local_traits  iqr_local_traits  mean_regional_traits  std_regional_traits  skewness_regional_traits  kurtosis_regional_traits  median_regional_traits  iqr_regional_traits  reg_loc_mean_trait_dif  reg_loc_std_trait_dif  reg_loc_skewness_trait_dif  reg_loc_kurtosis_trait_dif  reg_loc_median_trait_dif  reg_loc_iqr_trait_dif  pi_trait_cor     SGD_0     SGD_1     SGD_2     SGD_3     SGD_4\n",
       "Feature importance  0.019203  0.02027  0.017569  0.016981  0.01636  0.03346  0.047082     0.018463     0.018501    0.00988  0.024147           0.018569          0.053284               0.020313               0.039902             0.018288           0.05064              0.019648             0.027548                   0.03024                  0.050351                0.021705             0.048082                0.023601               0.112985                    0.024682                    0.036597                  0.023202               0.051625      0.023888  0.019119  0.014016  0.011252  0.010111  0.008435"
      ]
     },
     "metadata": {},
     "output_type": "display_data"
    },
    {
     "data": {
      "image/png": "[encoded data removed]",
      "text/plain": [
       "<Figure size 720x864 with 1 Axes>"
      ]
     },
     "metadata": {
      "needs_background": "light"
     },
     "output_type": "display_data"
    },
    {
     "data": {
      "image/png": "[encoded data removed]",
      "text/plain": [
       "<Figure size 720x864 with 1 Axes>"
      ]
     },
     "metadata": {
      "needs_background": "light"
     },
     "output_type": "display_data"
    },
    {
     "data": {
      "image/png": "[encoded data removed]",
      "text/plain": [
       "<Figure size 720x864 with 1 Axes>"
      ]
     },
     "metadata": {
      "needs_background": "light"
     },
     "output_type": "display_data"
    }
   ],
   "source": [
    "simfile = \"/home/iovercast/Continuosity/MESS/analysis/figure5-sims/fig5_sims/SIMOUT.txt\"\n",
    "\n",
    "cla = MESS.inference.Classifier(empirical_df=df, simfile=simfile, algorithm=\"rf\",\\\n",
    "                                metacommunity_traits=metacommunity_traits, verbose=False)\n",
    "for isl, df in site_df.items():\n",
    "    if not os.path.exists(isl): os.mkdir(isl)\n",
    "    cla.set_data(df)\n",
    "    est, proba = cla.predict(select_features=True, param_search=True, quick=False, verbose=True)\n",
    "    cla.dump(outfile=\"{}/{}_classifier.mdl\".format(isl, isl))\n",
    "    display(isl, est, proba)\n",
    "    display(cla.feature_importances())\n",
    "    cla.plot_feature_importance()"
   ]
  },
  {
   "cell_type": "code",
   "execution_count": null,
   "metadata": {
    "collapsed": true
   },
   "outputs": [],
   "source": [
    "cla.feature_importances()"
   ]
  },
  {
   "cell_type": "markdown",
   "metadata": {},
   "source": [
    "# Estimate parameters\n",
    "Set the target model to 'filtering' for the tree data."
   ]
  },
  {
   "cell_type": "code",
   "execution_count": 64,
   "metadata": {},
   "outputs": [
    {
     "name": "stdout",
     "output_type": "stream",
     "text": [
      "Predict() started: 2019-06-14 17:32:06.567479\n",
      "Finding best model parameters.\n",
      "Fitting 4 folds for each of 100 candidates, totalling 400 fits\n"
     ]
    },
    {
     "name": "stderr",
     "output_type": "stream",
     "text": [
      "[Parallel(n_jobs=-1)]: Using backend LokyBackend with 40 concurrent workers.\n",
      "[Parallel(n_jobs=-1)]: Done 120 tasks      | elapsed: 11.7min\n",
      "[Parallel(n_jobs=-1)]: Done 400 out of 400 | elapsed: 41.2min finished\n"
     ]
    },
    {
     "name": "stdout",
     "output_type": "stream",
     "text": [
      "{'n_estimators': 1600, 'min_samples_split': 10, 'bootstrap': True, 'max_depth': 10, 'min_samples_leaf': 4}\n",
      "Predict() finished: 2019-06-14 18:16:11.671515\n"
     ]
    },
    {
     "data": {
      "text/plain": [
       "'Nightcap'"
      ]
     },
     "metadata": {},
     "output_type": "display_data"
    },
    {
     "data": {
      "text/html": [
       "<div>\n",
       "<style scoped>\n",
       "    .dataframe tbody tr th:only-of-type {\n",
       "        vertical-align: middle;\n",
       "    }\n",
       "\n",
       "    .dataframe tbody tr th {\n",
       "        vertical-align: top;\n",
       "    }\n",
       "\n",
       "    .dataframe thead th {\n",
       "        text-align: right;\n",
       "    }\n",
       "</style>\n",
       "<table border=\"1\" class=\"dataframe\">\n",
       "  <thead>\n",
       "    <tr style=\"text-align: right;\">\n",
       "      <th></th>\n",
       "      <th>alpha</th>\n",
       "      <th>ecological_strength</th>\n",
       "      <th>J</th>\n",
       "      <th>m</th>\n",
       "      <th>generation</th>\n",
       "      <th>speciation_prob</th>\n",
       "      <th>_lambda</th>\n",
       "    </tr>\n",
       "  </thead>\n",
       "  <tbody>\n",
       "    <tr>\n",
       "      <th>estimate</th>\n",
       "      <td>3061.783017</td>\n",
       "      <td>0.158225</td>\n",
       "      <td>5554.131455</td>\n",
       "      <td>0.004454</td>\n",
       "      <td>47.502342</td>\n",
       "      <td>0.002397</td>\n",
       "      <td>0.436492</td>\n",
       "    </tr>\n",
       "  </tbody>\n",
       "</table>\n",
       "</div>"
      ],
      "text/plain": [
       "                alpha  ecological_strength            J         m  generation  speciation_prob   _lambda\n",
       "estimate  3061.783017             0.158225  5554.131455  0.004454   47.502342         0.002397  0.436492"
      ]
     },
     "metadata": {},
     "output_type": "display_data"
    },
    {
     "data": {
      "text/html": [
       "<div>\n",
       "<style scoped>\n",
       "    .dataframe tbody tr th:only-of-type {\n",
       "        vertical-align: middle;\n",
       "    }\n",
       "\n",
       "    .dataframe tbody tr th {\n",
       "        vertical-align: top;\n",
       "    }\n",
       "\n",
       "    .dataframe thead th {\n",
       "        text-align: right;\n",
       "    }\n",
       "</style>\n",
       "<table border=\"1\" class=\"dataframe\">\n",
       "  <thead>\n",
       "    <tr style=\"text-align: right;\">\n",
       "      <th></th>\n",
       "      <th>S</th>\n",
       "      <th>pi_h1</th>\n",
       "      <th>pi_h2</th>\n",
       "      <th>pi_h3</th>\n",
       "      <th>pi_h4</th>\n",
       "      <th>mean_pi</th>\n",
       "      <th>std_pi</th>\n",
       "      <th>skewness_pi</th>\n",
       "      <th>kurtosis_pi</th>\n",
       "      <th>median_pi</th>\n",
       "      <th>iqr_pi</th>\n",
       "      <th>trees</th>\n",
       "      <th>mean_local_traits</th>\n",
       "      <th>std_local_traits</th>\n",
       "      <th>skewness_local_traits</th>\n",
       "      <th>kurtosis_local_traits</th>\n",
       "      <th>median_local_traits</th>\n",
       "      <th>iqr_local_traits</th>\n",
       "      <th>mean_regional_traits</th>\n",
       "      <th>std_regional_traits</th>\n",
       "      <th>skewness_regional_traits</th>\n",
       "      <th>kurtosis_regional_traits</th>\n",
       "      <th>median_regional_traits</th>\n",
       "      <th>iqr_regional_traits</th>\n",
       "      <th>reg_loc_mean_trait_dif</th>\n",
       "      <th>reg_loc_std_trait_dif</th>\n",
       "      <th>reg_loc_skewness_trait_dif</th>\n",
       "      <th>reg_loc_kurtosis_trait_dif</th>\n",
       "      <th>reg_loc_median_trait_dif</th>\n",
       "      <th>reg_loc_iqr_trait_dif</th>\n",
       "      <th>pi_trait_cor</th>\n",
       "      <th>SGD_0</th>\n",
       "      <th>SGD_1</th>\n",
       "      <th>SGD_2</th>\n",
       "      <th>SGD_3</th>\n",
       "      <th>SGD_4</th>\n",
       "      <th>SGD_5</th>\n",
       "      <th>SGD_6</th>\n",
       "      <th>SGD_7</th>\n",
       "      <th>SGD_8</th>\n",
       "      <th>SGD_9</th>\n",
       "    </tr>\n",
       "  </thead>\n",
       "  <tbody>\n",
       "    <tr>\n",
       "      <th>Feature importance</th>\n",
       "      <td>0.032274</td>\n",
       "      <td>0.184596</td>\n",
       "      <td>0.037725</td>\n",
       "      <td>0.011778</td>\n",
       "      <td>0.009259</td>\n",
       "      <td>0.095482</td>\n",
       "      <td>0.013532</td>\n",
       "      <td>0.009653</td>\n",
       "      <td>0.008638</td>\n",
       "      <td>0.127994</td>\n",
       "      <td>0.024352</td>\n",
       "      <td>0.0</td>\n",
       "      <td>0.007086</td>\n",
       "      <td>0.011926</td>\n",
       "      <td>0.010489</td>\n",
       "      <td>0.012602</td>\n",
       "      <td>0.007968</td>\n",
       "      <td>0.026427</td>\n",
       "      <td>0.007534</td>\n",
       "      <td>0.010603</td>\n",
       "      <td>0.013834</td>\n",
       "      <td>0.014537</td>\n",
       "      <td>0.007495</td>\n",
       "      <td>0.01552</td>\n",
       "      <td>0.011676</td>\n",
       "      <td>0.024659</td>\n",
       "      <td>0.013886</td>\n",
       "      <td>0.020295</td>\n",
       "      <td>0.016548</td>\n",
       "      <td>0.025845</td>\n",
       "      <td>0.014747</td>\n",
       "      <td>0.138229</td>\n",
       "      <td>0.006328</td>\n",
       "      <td>0.006424</td>\n",
       "      <td>0.004553</td>\n",
       "      <td>0.003954</td>\n",
       "      <td>0.003621</td>\n",
       "      <td>0.002663</td>\n",
       "      <td>0.002055</td>\n",
       "      <td>0.001422</td>\n",
       "      <td>0.001793</td>\n",
       "    </tr>\n",
       "  </tbody>\n",
       "</table>\n",
       "</div>"
      ],
      "text/plain": [
       "                           S     pi_h1     pi_h2     pi_h3     pi_h4   mean_pi    std_pi  skewness_pi  kurtosis_pi  median_pi    iqr_pi  trees  mean_local_traits  std_local_traits  skewness_local_traits  kurtosis_local_traits  median_local_traits  iqr_local_traits  mean_regional_traits  std_regional_traits  skewness_regional_traits  kurtosis_regional_traits  median_regional_traits  iqr_regional_traits  reg_loc_mean_trait_dif  reg_loc_std_trait_dif  reg_loc_skewness_trait_dif  reg_loc_kurtosis_trait_dif  reg_loc_median_trait_dif  reg_loc_iqr_trait_dif  pi_trait_cor     SGD_0     SGD_1     SGD_2     SGD_3     SGD_4     SGD_5     SGD_6     SGD_7     SGD_8     SGD_9\n",
       "Feature importance  0.032274  0.184596  0.037725  0.011778  0.009259  0.095482  0.013532     0.009653     0.008638   0.127994  0.024352    0.0           0.007086          0.011926               0.010489               0.012602             0.007968          0.026427              0.007534             0.010603                  0.013834                  0.014537                0.007495              0.01552                0.011676               0.024659                    0.013886                    0.020295                  0.016548               0.025845      0.014747  0.138229  0.006328  0.006424  0.004553  0.003954  0.003621  0.002663  0.002055  0.001422  0.001793"
      ]
     },
     "metadata": {},
     "output_type": "display_data"
    },
    {
     "name": "stdout",
     "output_type": "stream",
     "text": [
      "Predict() started: 2019-06-14 18:16:14.068893\n"
     ]
    },
    {
     "data": {
      "text/plain": [
       "'Dorrigo'"
      ]
     },
     "metadata": {},
     "output_type": "display_data"
    },
    {
     "data": {
      "text/html": [
       "<div>\n",
       "<style scoped>\n",
       "    .dataframe tbody tr th:only-of-type {\n",
       "        vertical-align: middle;\n",
       "    }\n",
       "\n",
       "    .dataframe tbody tr th {\n",
       "        vertical-align: top;\n",
       "    }\n",
       "\n",
       "    .dataframe thead th {\n",
       "        text-align: right;\n",
       "    }\n",
       "</style>\n",
       "<table border=\"1\" class=\"dataframe\">\n",
       "  <thead>\n",
       "    <tr style=\"text-align: right;\">\n",
       "      <th></th>\n",
       "      <th>alpha</th>\n",
       "      <th>ecological_strength</th>\n",
       "      <th>J</th>\n",
       "      <th>m</th>\n",
       "      <th>generation</th>\n",
       "      <th>speciation_prob</th>\n",
       "      <th>_lambda</th>\n",
       "    </tr>\n",
       "  </thead>\n",
       "  <tbody>\n",
       "    <tr>\n",
       "      <th>estimate</th>\n",
       "      <td>2150.637027</td>\n",
       "      <td>0.160143</td>\n",
       "      <td>6258.359904</td>\n",
       "      <td>0.004213</td>\n",
       "      <td>42.374553</td>\n",
       "      <td>0.002347</td>\n",
       "      <td>0.465527</td>\n",
       "    </tr>\n",
       "  </tbody>\n",
       "</table>\n",
       "</div>"
      ],
      "text/plain": [
       "                alpha  ecological_strength            J         m  generation  speciation_prob   _lambda\n",
       "estimate  2150.637027             0.160143  6258.359904  0.004213   42.374553         0.002347  0.465527"
      ]
     },
     "metadata": {},
     "output_type": "display_data"
    },
    {
     "data": {
      "text/html": [
       "<div>\n",
       "<style scoped>\n",
       "    .dataframe tbody tr th:only-of-type {\n",
       "        vertical-align: middle;\n",
       "    }\n",
       "\n",
       "    .dataframe tbody tr th {\n",
       "        vertical-align: top;\n",
       "    }\n",
       "\n",
       "    .dataframe thead th {\n",
       "        text-align: right;\n",
       "    }\n",
       "</style>\n",
       "<table border=\"1\" class=\"dataframe\">\n",
       "  <thead>\n",
       "    <tr style=\"text-align: right;\">\n",
       "      <th></th>\n",
       "      <th>S</th>\n",
       "      <th>pi_h1</th>\n",
       "      <th>pi_h2</th>\n",
       "      <th>pi_h3</th>\n",
       "      <th>pi_h4</th>\n",
       "      <th>mean_pi</th>\n",
       "      <th>std_pi</th>\n",
       "      <th>skewness_pi</th>\n",
       "      <th>kurtosis_pi</th>\n",
       "      <th>median_pi</th>\n",
       "      <th>iqr_pi</th>\n",
       "      <th>trees</th>\n",
       "      <th>mean_local_traits</th>\n",
       "      <th>std_local_traits</th>\n",
       "      <th>skewness_local_traits</th>\n",
       "      <th>kurtosis_local_traits</th>\n",
       "      <th>median_local_traits</th>\n",
       "      <th>iqr_local_traits</th>\n",
       "      <th>mean_regional_traits</th>\n",
       "      <th>std_regional_traits</th>\n",
       "      <th>skewness_regional_traits</th>\n",
       "      <th>kurtosis_regional_traits</th>\n",
       "      <th>median_regional_traits</th>\n",
       "      <th>iqr_regional_traits</th>\n",
       "      <th>reg_loc_mean_trait_dif</th>\n",
       "      <th>reg_loc_std_trait_dif</th>\n",
       "      <th>reg_loc_skewness_trait_dif</th>\n",
       "      <th>reg_loc_kurtosis_trait_dif</th>\n",
       "      <th>reg_loc_median_trait_dif</th>\n",
       "      <th>reg_loc_iqr_trait_dif</th>\n",
       "      <th>pi_trait_cor</th>\n",
       "      <th>SGD_0</th>\n",
       "      <th>SGD_1</th>\n",
       "      <th>SGD_2</th>\n",
       "      <th>SGD_3</th>\n",
       "      <th>SGD_4</th>\n",
       "      <th>SGD_5</th>\n",
       "      <th>SGD_6</th>\n",
       "      <th>SGD_7</th>\n",
       "      <th>SGD_8</th>\n",
       "      <th>SGD_9</th>\n",
       "    </tr>\n",
       "  </thead>\n",
       "  <tbody>\n",
       "    <tr>\n",
       "      <th>Feature importance</th>\n",
       "      <td>0.032274</td>\n",
       "      <td>0.184596</td>\n",
       "      <td>0.037725</td>\n",
       "      <td>0.011778</td>\n",
       "      <td>0.009259</td>\n",
       "      <td>0.095482</td>\n",
       "      <td>0.013532</td>\n",
       "      <td>0.009653</td>\n",
       "      <td>0.008638</td>\n",
       "      <td>0.127994</td>\n",
       "      <td>0.024352</td>\n",
       "      <td>0.0</td>\n",
       "      <td>0.007086</td>\n",
       "      <td>0.011926</td>\n",
       "      <td>0.010489</td>\n",
       "      <td>0.012602</td>\n",
       "      <td>0.007968</td>\n",
       "      <td>0.026427</td>\n",
       "      <td>0.007534</td>\n",
       "      <td>0.010603</td>\n",
       "      <td>0.013834</td>\n",
       "      <td>0.014537</td>\n",
       "      <td>0.007495</td>\n",
       "      <td>0.01552</td>\n",
       "      <td>0.011676</td>\n",
       "      <td>0.024659</td>\n",
       "      <td>0.013886</td>\n",
       "      <td>0.020295</td>\n",
       "      <td>0.016548</td>\n",
       "      <td>0.025845</td>\n",
       "      <td>0.014747</td>\n",
       "      <td>0.138229</td>\n",
       "      <td>0.006328</td>\n",
       "      <td>0.006424</td>\n",
       "      <td>0.004553</td>\n",
       "      <td>0.003954</td>\n",
       "      <td>0.003621</td>\n",
       "      <td>0.002663</td>\n",
       "      <td>0.002055</td>\n",
       "      <td>0.001422</td>\n",
       "      <td>0.001793</td>\n",
       "    </tr>\n",
       "  </tbody>\n",
       "</table>\n",
       "</div>"
      ],
      "text/plain": [
       "                           S     pi_h1     pi_h2     pi_h3     pi_h4   mean_pi    std_pi  skewness_pi  kurtosis_pi  median_pi    iqr_pi  trees  mean_local_traits  std_local_traits  skewness_local_traits  kurtosis_local_traits  median_local_traits  iqr_local_traits  mean_regional_traits  std_regional_traits  skewness_regional_traits  kurtosis_regional_traits  median_regional_traits  iqr_regional_traits  reg_loc_mean_trait_dif  reg_loc_std_trait_dif  reg_loc_skewness_trait_dif  reg_loc_kurtosis_trait_dif  reg_loc_median_trait_dif  reg_loc_iqr_trait_dif  pi_trait_cor     SGD_0     SGD_1     SGD_2     SGD_3     SGD_4     SGD_5     SGD_6     SGD_7     SGD_8     SGD_9\n",
       "Feature importance  0.032274  0.184596  0.037725  0.011778  0.009259  0.095482  0.013532     0.009653     0.008638   0.127994  0.024352    0.0           0.007086          0.011926               0.010489               0.012602             0.007968          0.026427              0.007534             0.010603                  0.013834                  0.014537                0.007495              0.01552                0.011676               0.024659                    0.013886                    0.020295                  0.016548               0.025845      0.014747  0.138229  0.006328  0.006424  0.004553  0.003954  0.003621  0.002663  0.002055  0.001422  0.001793"
      ]
     },
     "metadata": {},
     "output_type": "display_data"
    },
    {
     "name": "stdout",
     "output_type": "stream",
     "text": [
      "Predict() started: 2019-06-14 18:16:16.390799\n"
     ]
    },
    {
     "data": {
      "text/plain": [
       "'Washpool'"
      ]
     },
     "metadata": {},
     "output_type": "display_data"
    },
    {
     "data": {
      "text/html": [
       "<div>\n",
       "<style scoped>\n",
       "    .dataframe tbody tr th:only-of-type {\n",
       "        vertical-align: middle;\n",
       "    }\n",
       "\n",
       "    .dataframe tbody tr th {\n",
       "        vertical-align: top;\n",
       "    }\n",
       "\n",
       "    .dataframe thead th {\n",
       "        text-align: right;\n",
       "    }\n",
       "</style>\n",
       "<table border=\"1\" class=\"dataframe\">\n",
       "  <thead>\n",
       "    <tr style=\"text-align: right;\">\n",
       "      <th></th>\n",
       "      <th>alpha</th>\n",
       "      <th>ecological_strength</th>\n",
       "      <th>J</th>\n",
       "      <th>m</th>\n",
       "      <th>generation</th>\n",
       "      <th>speciation_prob</th>\n",
       "      <th>_lambda</th>\n",
       "    </tr>\n",
       "  </thead>\n",
       "  <tbody>\n",
       "    <tr>\n",
       "      <th>estimate</th>\n",
       "      <td>2218.963059</td>\n",
       "      <td>0.165578</td>\n",
       "      <td>5760.285057</td>\n",
       "      <td>0.00429</td>\n",
       "      <td>44.872724</td>\n",
       "      <td>0.002398</td>\n",
       "      <td>0.448731</td>\n",
       "    </tr>\n",
       "  </tbody>\n",
       "</table>\n",
       "</div>"
      ],
      "text/plain": [
       "                alpha  ecological_strength            J        m  generation  speciation_prob   _lambda\n",
       "estimate  2218.963059             0.165578  5760.285057  0.00429   44.872724         0.002398  0.448731"
      ]
     },
     "metadata": {},
     "output_type": "display_data"
    },
    {
     "data": {
      "text/html": [
       "<div>\n",
       "<style scoped>\n",
       "    .dataframe tbody tr th:only-of-type {\n",
       "        vertical-align: middle;\n",
       "    }\n",
       "\n",
       "    .dataframe tbody tr th {\n",
       "        vertical-align: top;\n",
       "    }\n",
       "\n",
       "    .dataframe thead th {\n",
       "        text-align: right;\n",
       "    }\n",
       "</style>\n",
       "<table border=\"1\" class=\"dataframe\">\n",
       "  <thead>\n",
       "    <tr style=\"text-align: right;\">\n",
       "      <th></th>\n",
       "      <th>S</th>\n",
       "      <th>pi_h1</th>\n",
       "      <th>pi_h2</th>\n",
       "      <th>pi_h3</th>\n",
       "      <th>pi_h4</th>\n",
       "      <th>mean_pi</th>\n",
       "      <th>std_pi</th>\n",
       "      <th>skewness_pi</th>\n",
       "      <th>kurtosis_pi</th>\n",
       "      <th>median_pi</th>\n",
       "      <th>iqr_pi</th>\n",
       "      <th>trees</th>\n",
       "      <th>mean_local_traits</th>\n",
       "      <th>std_local_traits</th>\n",
       "      <th>skewness_local_traits</th>\n",
       "      <th>kurtosis_local_traits</th>\n",
       "      <th>median_local_traits</th>\n",
       "      <th>iqr_local_traits</th>\n",
       "      <th>mean_regional_traits</th>\n",
       "      <th>std_regional_traits</th>\n",
       "      <th>skewness_regional_traits</th>\n",
       "      <th>kurtosis_regional_traits</th>\n",
       "      <th>median_regional_traits</th>\n",
       "      <th>iqr_regional_traits</th>\n",
       "      <th>reg_loc_mean_trait_dif</th>\n",
       "      <th>reg_loc_std_trait_dif</th>\n",
       "      <th>reg_loc_skewness_trait_dif</th>\n",
       "      <th>reg_loc_kurtosis_trait_dif</th>\n",
       "      <th>reg_loc_median_trait_dif</th>\n",
       "      <th>reg_loc_iqr_trait_dif</th>\n",
       "      <th>pi_trait_cor</th>\n",
       "      <th>SGD_0</th>\n",
       "      <th>SGD_1</th>\n",
       "      <th>SGD_2</th>\n",
       "      <th>SGD_3</th>\n",
       "      <th>SGD_4</th>\n",
       "      <th>SGD_5</th>\n",
       "      <th>SGD_6</th>\n",
       "      <th>SGD_7</th>\n",
       "      <th>SGD_8</th>\n",
       "      <th>SGD_9</th>\n",
       "    </tr>\n",
       "  </thead>\n",
       "  <tbody>\n",
       "    <tr>\n",
       "      <th>Feature importance</th>\n",
       "      <td>0.032274</td>\n",
       "      <td>0.184596</td>\n",
       "      <td>0.037725</td>\n",
       "      <td>0.011778</td>\n",
       "      <td>0.009259</td>\n",
       "      <td>0.095482</td>\n",
       "      <td>0.013532</td>\n",
       "      <td>0.009653</td>\n",
       "      <td>0.008638</td>\n",
       "      <td>0.127994</td>\n",
       "      <td>0.024352</td>\n",
       "      <td>0.0</td>\n",
       "      <td>0.007086</td>\n",
       "      <td>0.011926</td>\n",
       "      <td>0.010489</td>\n",
       "      <td>0.012602</td>\n",
       "      <td>0.007968</td>\n",
       "      <td>0.026427</td>\n",
       "      <td>0.007534</td>\n",
       "      <td>0.010603</td>\n",
       "      <td>0.013834</td>\n",
       "      <td>0.014537</td>\n",
       "      <td>0.007495</td>\n",
       "      <td>0.01552</td>\n",
       "      <td>0.011676</td>\n",
       "      <td>0.024659</td>\n",
       "      <td>0.013886</td>\n",
       "      <td>0.020295</td>\n",
       "      <td>0.016548</td>\n",
       "      <td>0.025845</td>\n",
       "      <td>0.014747</td>\n",
       "      <td>0.138229</td>\n",
       "      <td>0.006328</td>\n",
       "      <td>0.006424</td>\n",
       "      <td>0.004553</td>\n",
       "      <td>0.003954</td>\n",
       "      <td>0.003621</td>\n",
       "      <td>0.002663</td>\n",
       "      <td>0.002055</td>\n",
       "      <td>0.001422</td>\n",
       "      <td>0.001793</td>\n",
       "    </tr>\n",
       "  </tbody>\n",
       "</table>\n",
       "</div>"
      ],
      "text/plain": [
       "                           S     pi_h1     pi_h2     pi_h3     pi_h4   mean_pi    std_pi  skewness_pi  kurtosis_pi  median_pi    iqr_pi  trees  mean_local_traits  std_local_traits  skewness_local_traits  kurtosis_local_traits  median_local_traits  iqr_local_traits  mean_regional_traits  std_regional_traits  skewness_regional_traits  kurtosis_regional_traits  median_regional_traits  iqr_regional_traits  reg_loc_mean_trait_dif  reg_loc_std_trait_dif  reg_loc_skewness_trait_dif  reg_loc_kurtosis_trait_dif  reg_loc_median_trait_dif  reg_loc_iqr_trait_dif  pi_trait_cor     SGD_0     SGD_1     SGD_2     SGD_3     SGD_4     SGD_5     SGD_6     SGD_7     SGD_8     SGD_9\n",
       "Feature importance  0.032274  0.184596  0.037725  0.011778  0.009259  0.095482  0.013532     0.009653     0.008638   0.127994  0.024352    0.0           0.007086          0.011926               0.010489               0.012602             0.007968          0.026427              0.007534             0.010603                  0.013834                  0.014537                0.007495              0.01552                0.011676               0.024659                    0.013886                    0.020295                  0.016548               0.025845      0.014747  0.138229  0.006328  0.006424  0.004553  0.003954  0.003621  0.002663  0.002055  0.001422  0.001793"
      ]
     },
     "metadata": {},
     "output_type": "display_data"
    }
   ],
   "source": [
    "rgr = MESS.inference.Regressor(empirical_df=df, simfile=simfile, target_model=\"filtering\",\\\n",
    "                                algorithm=\"rf\", metacommunity_traits=metacommunity_traits)\n",
    "for isl, df in site_df.items():\n",
    "    rgr.set_data(df)\n",
    "    est = rgr.predict(select_features=False, param_search=True, quick=False, verbose=True)\n",
    "    rgr.dump(outfile=\"{}/{}_regressor.mdl\".format(isl, isl))\n",
    "    display(isl, est, rgr.feature_importances())"
   ]
  },
  {
   "cell_type": "code",
   "execution_count": 62,
   "metadata": {},
   "outputs": [
    {
     "data": {
      "image/png": "[encoded data removed]",
      "text/plain": [
       "<Figure size 720x1440 with 7 Axes>"
      ]
     },
     "metadata": {
      "needs_background": "light"
     },
     "output_type": "display_data"
    }
   ],
   "source": [
    "_ = rgr.plot_feature_importance(figsize=(10, 20))"
   ]
  },
  {
   "cell_type": "markdown",
   "metadata": {},
   "source": [
    "## Posterior predictive simulations\n",
    "Here we're reloading the regressor from the file so if the notebook dies we can still run the PPC without having to retrain the model."
   ]
  },
  {
   "cell_type": "code",
   "execution_count": 59,
   "metadata": {},
   "outputs": [
    {
     "name": "stdout",
     "output_type": "stream",
     "text": [
      "Nightcap\n",
      "New simulations will be appended to SIMOUT.txt in './ppc'. Use `force=True` to overwrite.\n",
      "  [####################] 100% Performing simulations \n",
      "Calculating PCs and plotting\n",
      "Dorrigo\n",
      "New simulations will be appended to SIMOUT.txt in './ppc'. Use `force=True` to overwrite.\n",
      "  [####################] 100% Performing simulations \n",
      "Calculating PCs and plotting\n",
      "Washpool\n",
      "New simulations will be appended to SIMOUT.txt in './ppc'. Use `force=True` to overwrite.\n",
      "  [####################] 100% Performing simulations \n",
      "Calculating PCs and plotting\n"
     ]
    },
    {
     "data": {
      "image/png": "[encoded data removed]",
      "text/plain": [
       "<Figure size 360x360 with 1 Axes>"
      ]
     },
     "metadata": {
      "needs_background": "light"
     },
     "output_type": "display_data"
    },
    {
     "data": {
      "image/png": "[encoded data removed]",
      "text/plain": [
       "<Figure size 360x360 with 1 Axes>"
      ]
     },
     "metadata": {
      "needs_background": "light"
     },
     "output_type": "display_data"
    },
    {
     "data": {
      "image/png": "[encoded data removed]",
      "text/plain": [
       "<Figure size 360x360 with 1 Axes>"
      ]
     },
     "metadata": {
      "needs_background": "light"
     },
     "output_type": "display_data"
    }
   ],
   "source": [
    "for isl, df in site_df.items():\n",
    "    print(isl)\n",
    "    rgr = MESS.inference.Ensemble.load(\"{}/{}_regressor.mdl\".format(isl, isl))\n",
    "    est = rgr.empirical_pred\n",
    "    MESS.inference.posterior_predictive_check(empirical_df=df, nsims=5, parameter_estimates=est, verbose=True)"
   ]
  },
  {
   "cell_type": "markdown",
   "metadata": {},
   "source": [
    "# Trash below here"
   ]
  },
  {
   "cell_type": "code",
   "execution_count": 58,
   "metadata": {},
   "outputs": [
    {
     "data": {
      "text/plain": [
       "16456"
      ]
     },
     "execution_count": 58,
     "metadata": {},
     "output_type": "execute_result"
    }
   ],
   "source": [
    "len(cla._X)"
   ]
  }
 ],
 "metadata": {
  "kernelspec": {
   "display_name": "Python 3",
   "language": "python",
   "name": "python3"
  },
  "language_info": {
   "codemirror_mode": {
    "name": "ipython",
    "version": 3
   },
   "file_extension": ".py",
   "mimetype": "text/x-python",
   "name": "python",
   "nbconvert_exporter": "python",
   "pygments_lexer": "ipython3",
   "version": "3.6.7"
  }
 },
 "nbformat": 4,
 "nbformat_minor": 2
}
